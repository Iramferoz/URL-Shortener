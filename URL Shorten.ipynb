{
 "cells": [
  {
   "cell_type": "code",
   "execution_count": 1,
   "id": "629b17ab",
   "metadata": {},
   "outputs": [],
   "source": [
    "pip install pyshorteners"
   ]
  },
  {
   "cell_type": "code",
   "execution_count": 4,
   "id": "dbf81d0a",
   "metadata": {},
   "outputs": [],
   "source": [
    "import tkinter as tk\n",
    "from tkinter import messagebox\n",
    "import pyshorteners\n",
    "\n",
    "def shorten_url():\n",
    "    url = url_entry.get()\n",
    "    if url:\n",
    "        try:\n",
    "            s = pyshorteners.Shortener()\n",
    "            short_url = s.tinyurl.short(url)\n",
    "            result_label.config(text=f\"Short URL: {short_url}\")\n",
    "        except Exception as e:\n",
    "            messagebox.showerror(\"Error\", f\"Failed to load shortened URL. Error: {str(e)}\")\n",
    "    else:\n",
    "        messagebox.showwarning(\"Input Error\", \"Please enter the correct URL\")\n",
    "\n",
    "root = tk.Tk()\n",
    "root.title(\"urlshorten\")\n",
    "\n",
    "title_label = tk.Label(root, text=\"Shortener URL\", font=(\"Arial\", 27, \"bold\"), fg='#0186da')\n",
    "title_label.pack(pady=10)\n",
    "\n",
    "instruction_label = tk.Label(root, text=\"Paste the URL to be shortened\", font=(\"Arial\", 20,\"bold\"))\n",
    "instruction_label.pack(pady=5)\n",
    "\n",
    "url_entry = tk.Entry(root, width=30, font=(\"arial\", 15))\n",
    "url_entry.pack(pady=(5, 10))\n",
    "\n",
    "shorten_button = tk.Button(root, text=\"Short URL\", command=shorten_url, font=(\"Arial\", 14), bg='#0186da', fg='#ffffff')\n",
    "shorten_button.pack(pady=5)\n",
    "\n",
    "result_label = tk.Label(root, text=\"\", font=(\"arial\", 15))\n",
    "result_label.pack(pady=10)\n",
    "\n",
    "footer_text = tk.Label(root, text=\"URL shortener allows to create a shortened link making it easy to share\", font=(\"Arial\", 10) )\n",
    "footer_text.pack(pady=10)\n",
    "\n",
    "root.mainloop()\n",
    "\n"
   ]
  },
  {
   "cell_type": "code",
   "execution_count": 3,
   "id": "fd007c77",
   "metadata": {},
   "outputs": [],
   "source": []
  },
  {
   "cell_type": "code",
   "execution_count": null,
   "id": "c6804818",
   "metadata": {},
   "outputs": [],
   "source": []
  },
  {
   "cell_type": "code",
   "execution_count": 38,
   "id": "8e48fba3",
   "metadata": {},
   "outputs": [],
   "source": []
  },
  {
   "cell_type": "code",
   "execution_count": null,
   "id": "da6c10f2",
   "metadata": {},
   "outputs": [],
   "source": []
  },
  {
   "cell_type": "code",
   "execution_count": null,
   "id": "cd602557",
   "metadata": {},
   "outputs": [],
   "source": [
    "\n"
   ]
  },
  {
   "cell_type": "code",
   "execution_count": null,
   "id": "bc3f785a",
   "metadata": {},
   "outputs": [],
   "source": []
  },
  {
   "cell_type": "code",
   "execution_count": 44,
   "id": "823929e1",
   "metadata": {},
   "outputs": [],
   "source": []
  },
  {
   "cell_type": "code",
   "execution_count": 45,
   "id": "b6509e5e",
   "metadata": {},
   "outputs": [],
   "source": []
  },
  {
   "cell_type": "code",
   "execution_count": 46,
   "id": "0102e020",
   "metadata": {},
   "outputs": [],
   "source": []
  },
  {
   "cell_type": "code",
   "execution_count": null,
   "id": "03a75179",
   "metadata": {},
   "outputs": [],
   "source": []
  },
  {
   "cell_type": "code",
   "execution_count": null,
   "id": "595d9235",
   "metadata": {},
   "outputs": [],
   "source": []
  },
  {
   "cell_type": "code",
   "execution_count": 2,
   "id": "86f014da",
   "metadata": {},
   "outputs": [],
   "source": []
  },
  {
   "cell_type": "code",
   "execution_count": null,
   "id": "f503d51c",
   "metadata": {},
   "outputs": [],
   "source": []
  }
 ],
 "metadata": {
  "kernelspec": {
   "display_name": "Python 3 (ipykernel)",
   "language": "python",
   "name": "python3"
  },
  "language_info": {
   "codemirror_mode": {
    "name": "ipython",
    "version": 3
   },
   "file_extension": ".py",
   "mimetype": "text/x-python",
   "name": "python",
   "nbconvert_exporter": "python",
   "pygments_lexer": "ipython3",
   "version": "3.9.7"
  }
 },
 "nbformat": 4,
 "nbformat_minor": 5
}
